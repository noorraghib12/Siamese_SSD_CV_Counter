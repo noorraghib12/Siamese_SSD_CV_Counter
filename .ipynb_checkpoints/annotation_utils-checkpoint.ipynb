{
 "cells": [
  {
   "cell_type": "code",
   "execution_count": 3,
   "id": "92b2148a",
   "metadata": {},
   "outputs": [],
   "source": [
    "import matplotlib.pyplot as plt\n",
    "import os\n",
    "import glob\n",
    "import shutil\n",
    "import cv2\n",
    "import uuid\n",
    "import numpy as np"
   ]
  },
  {
   "cell_type": "markdown",
   "id": "ad016a02",
   "metadata": {},
   "source": [
    "# SNN DATA EXTRACTOR FROM YOLO JPG-TXT "
   ]
  },
  {
   "cell_type": "code",
   "execution_count": 4,
   "id": "403e8632",
   "metadata": {},
   "outputs": [],
   "source": [
    "#Extracts bounding box roi from within images labelled with yolo txt \n",
    "def box_extractor(txt,img):\n",
    "    with open(txt) as file:\n",
    "        lines=[i.rstrip().split(\" \") for i in file.readlines()]\n",
    "    image=cv2.imread(img)\n",
    "    height=image.shape[0]\n",
    "    width=image.shape[1]\n",
    "    for i in lines:\n",
    "        label=0\n",
    "        mX=int(float(i[1])*width)\n",
    "        mY=int(float(i[2])*height)\n",
    "        bbox_w=int(float(i[3])*width)\n",
    "        bbox_h=int(float(i[4])*height)\n",
    "        startX=int(mX-bbox_w/2)\n",
    "        startY=int(mY-bbox_h/2)\n",
    "        endX=startX+bbox_w\n",
    "        endY=startY+bbox_h\n",
    "        print([startY,startX,endY,endX])\n",
    "        bbox=image[startY:endY,startX:endX,:]\n",
    "#         cv2.imshow(\"sdf\",bbox)\n",
    "#         cv2.waitKey(10)\n",
    "        folder=\"box\"\n",
    "        if not os.path.exists(folder):\n",
    "            os.makedirs(folder)\n",
    "        box_c=uuid.uuid4().hex[:5]\n",
    "        cv2.imwrite(\"{}\\\\{}.jpg\".format(folder,box_c),bbox)\n",
    "        box_c=uuid.uuid4().hex[:5]"
   ]
  },
  {
   "cell_type": "code",
   "execution_count": 5,
   "id": "391468f8",
   "metadata": {},
   "outputs": [
    {
     "name": "stdout",
     "output_type": "stream",
     "text": [
      ".\\data_for_box_extractor\\ch01_20210829090713_0_0.jpg\n",
      "[337, 1933, 584, 2288]\n",
      "[185, 1654, 369, 1948]\n",
      ".\\data_for_box_extractor\\ch01_20210829090713_0_1.jpg\n",
      "[406, 2015, 709, 2381]\n",
      "[245, 1797, 447, 2118]\n",
      "[529, 500, 767, 797]\n",
      ".\\data_for_box_extractor\\ch01_20210829090713_0_10.jpg\n",
      "[982, 543, 1413, 1240]\n",
      "[849, 88, 1184, 564]\n",
      ".\\data_for_box_extractor\\ch01_20210829090713_0_11.jpg\n",
      "[840, 84, 1170, 543]\n",
      "[979, 461, 1415, 1163]\n",
      ".\\data_for_box_extractor\\ch01_20210829090713_0_2.jpg\n",
      "[505, 2033, 853, 2397]\n",
      "[305, 1913, 539, 2276]\n",
      ".\\data_for_box_extractor\\ch01_20210829090713_0_3.jpg\n",
      "[596, 1949, 1018, 2387]\n",
      "[386, 2005, 678, 2393]\n",
      ".\\data_for_box_extractor\\ch01_20210829090713_0_4.jpg\n",
      "[472, 2089, 782, 2474]\n",
      "[700, 1682, 1183, 2310]\n",
      ".\\data_for_box_extractor\\ch01_20210829090713_0_5.jpg\n",
      "[574, 2084, 974, 2471]\n",
      "[821, 1311, 1304, 2050]\n",
      ".\\data_for_box_extractor\\ch01_20210829090713_0_6.jpg\n",
      "[585, 2059, 1017, 2459]\n",
      "[839, 1205, 1397, 1985]\n",
      ".\\data_for_box_extractor\\ch01_20210829090713_0_7.jpg\n",
      "[678, 1855, 1202, 2419]\n",
      "[916, 855, 1422, 1490]\n",
      ".\\data_for_box_extractor\\ch01_20210829090713_0_8.jpg\n",
      "[822, 1492, 1391, 2212]\n",
      "[952, 417, 1374, 1074]\n",
      ".\\data_for_box_extractor\\ch01_20210829090713_0_9.jpg\n",
      "[930, 1073, 1415, 1775]\n",
      "[894, 162, 1314, 776]\n"
     ]
    }
   ],
   "source": [
    "import glob\n",
    "for i in [i for i in glob.glob(\".\\\\data_for_box_extractor\\\\*.txt\") if \"classes\" not in i]:\n",
    "    txt=i\n",
    "    img=txt.replace(\".txt\",\".jpg\")\n",
    "    print(img)\n",
    "#     box_extractor(txt,img,classes)\n",
    "    try:\n",
    "        box_extractor(txt,img)\n",
    "    except:\n",
    "        print(\"bad luck boss, {} was a shit file\".format(img))"
   ]
  },
  {
   "cell_type": "markdown",
   "id": "0fb5c6c9",
   "metadata": {},
   "source": [
    "# YOLO LABEL CHANGER"
   ]
  },
  {
   "cell_type": "code",
   "execution_count": 2,
   "id": "7f982e86",
   "metadata": {},
   "outputs": [],
   "source": [
    "#Can be used to change YOLO labels from txt files for\n",
    "label_dict={'0': '0', '1': '0', '2': '0'}\n",
    "\n",
    "def label_change(f_name,label_dict):\n",
    "    file=open(f_name)\n",
    "    lines=[i.split(\" \") for i in file.readlines()]\n",
    "    file.close()\n",
    "    new_lines=[]\n",
    "    for i in range(len(lines)):\n",
    "        if lines[i][0] in list(label_dict.keys()):\n",
    "            lines[i][0]=label_dict[lines[i][0]]\n",
    "            new_lines.append(\" \".join(lines[i]))\n",
    "    with open(f_name,'w') as file:\n",
    "        file.write(\"\".join(new_lines))\n"
   ]
  }
 ],
 "metadata": {
  "kernelspec": {
   "display_name": "Python 3 (ipykernel)",
   "language": "python",
   "name": "python3"
  },
  "language_info": {
   "codemirror_mode": {
    "name": "ipython",
    "version": 3
   },
   "file_extension": ".py",
   "mimetype": "text/x-python",
   "name": "python",
   "nbconvert_exporter": "python",
   "pygments_lexer": "ipython3",
   "version": "3.7.6"
  }
 },
 "nbformat": 4,
 "nbformat_minor": 5
}
